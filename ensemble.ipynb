{
 "cells": [
  {
   "cell_type": "code",
   "execution_count": 43,
   "metadata": {},
   "outputs": [
    {
     "name": "stdout",
     "output_type": "stream",
     "text": [
      "INFO: Pandarallel will run on 16 workers.\n",
      "INFO: Pandarallel will use Memory file system to transfer data between the main process and workers.\n"
     ]
    }
   ],
   "source": [
    "import warnings\n",
    "warnings.filterwarnings(\"ignore\")\n",
    "\n",
    "import torch\n",
    "from torch import nn\n",
    "from catboost import CatBoostClassifier\n",
    "from sklearn.linear_model import LogisticRegression\n",
    "import joblib\n",
    "import biGRU_model \n",
    "import gbm_model\n",
    "from deeppavlov.core.data.simple_vocab import SimpleVocabulary\n",
    "import pandas as pd\n",
    "import numpy as np\n",
    "from pandarallel import pandarallel\n",
    "from sklearn.metrics import roc_auc_score, f1_score\n",
    "\n",
    "pandarallel.initialize()"
   ]
  },
  {
   "cell_type": "code",
   "execution_count": null,
   "metadata": {},
   "outputs": [],
   "source": []
  },
  {
   "cell_type": "markdown",
   "metadata": {},
   "source": [
    "### Попробуем объединить модели градиетного бустинга и рекурентной нейронной сети в ансамбль и посмотрим на качество"
   ]
  },
  {
   "cell_type": "code",
   "execution_count": null,
   "metadata": {},
   "outputs": [],
   "source": []
  },
  {
   "cell_type": "code",
   "execution_count": 44,
   "metadata": {},
   "outputs": [
    {
     "name": "stderr",
     "output_type": "stream",
     "text": [
      "2020-09-27 16:00:36.278 WARNING in 'deeppavlov.core.models.serializable'['serializable'] at line 49: No load path is set for SimpleVocabulary in 'infer' mode. Using save path instead\n",
      "2020-09-27 16:00:36.279 INFO in 'deeppavlov.core.data.simple_vocab'['simple_vocab'] at line 115: [loading vocabulary from /rapids/notebooks/my_data/BMSTU_hack/models/vocab.dict]\n"
     ]
    },
    {
     "data": {
      "text/plain": [
       "<All keys matched successfully>"
      ]
     },
     "execution_count": 44,
     "metadata": {},
     "output_type": "execute_result"
    }
   ],
   "source": [
    "gbm = CatBoostClassifier()      \n",
    "gbm.load_model('models/catboost_1')\n",
    "vocab = SimpleVocabulary(save_path=\"./models/vocab.dict\")\n",
    "\n",
    "gru = torch.load('models/biGRU')\n",
    "device = torch.device('cpu') \n",
    "gru = biGRU_model.BiGRU(vocab.count, embedding_dim=10, hidden_size=50, device='cpu') \n",
    "gru.load_state_dict(torch.load('models/biGRU', map_location=device))\n",
    "\n",
    "#tfidf = tfidf = joblib.load('models/tfidf.pkl') \n",
    "#svdt = tfidf = joblib.load('models/svdt.pkl') \n"
   ]
  },
  {
   "cell_type": "code",
   "execution_count": 45,
   "metadata": {},
   "outputs": [],
   "source": [
    "torch.cuda.empty_cache()"
   ]
  },
  {
   "cell_type": "code",
   "execution_count": 46,
   "metadata": {},
   "outputs": [
    {
     "name": "stdout",
     "output_type": "stream",
     "text": [
      "loading existing models...\n"
     ]
    }
   ],
   "source": [
    "train_df = pd.read_csv('data/level0.csv')\n",
    "train_labels = train_df['label']\n",
    "train_df.drop(['label'], axis=1, inplace=True)\n",
    "data_train_gbm = gbm_model.add_features(train_df.copy(), is_fitted=True)\n",
    "data_train_rnn = train_df.to_numpy()"
   ]
  },
  {
   "cell_type": "code",
   "execution_count": 47,
   "metadata": {},
   "outputs": [
    {
     "name": "stdout",
     "output_type": "stream",
     "text": [
      "loading existing models...\n"
     ]
    }
   ],
   "source": [
    "test_df = pd.read_csv('data/test.csv')\n",
    "test_labels = test_df['label']\n",
    "test_df.drop(['label'], axis=1, inplace=True)\n",
    "data_test_gbm = gbm_model.add_features(test_df.copy(), is_fitted=True)\n",
    "data_test_rnn = test_df.to_numpy()"
   ]
  },
  {
   "cell_type": "code",
   "execution_count": null,
   "metadata": {},
   "outputs": [],
   "source": []
  },
  {
   "cell_type": "code",
   "execution_count": 48,
   "metadata": {},
   "outputs": [],
   "source": [
    "gbm_train_proba = gbm.predict_proba(data_train_gbm)[:,1].flatten()\n",
    "rnn_train_proba = biGRU_model.predict_proba(gru, vocab, data_train_rnn, device='cpu').flatten()\n",
    "data_logreg_train = np.column_stack((gbm_train_proba, rnn_train_proba))"
   ]
  },
  {
   "cell_type": "code",
   "execution_count": 49,
   "metadata": {},
   "outputs": [],
   "source": [
    "gbm_test_proba = gbm.predict_proba(data_test_gbm)[:,1].flatten()\n",
    "rnn_test_proba = biGRU_model.predict_proba(gru, vocab, data_test_rnn, device='cpu').flatten()\n",
    "data_logreg_test = np.column_stack((gbm_test_proba, rnn_test_proba))"
   ]
  },
  {
   "cell_type": "code",
   "execution_count": 60,
   "metadata": {},
   "outputs": [],
   "source": []
  },
  {
   "cell_type": "markdown",
   "metadata": {},
   "source": [
    "### качество моделей по отдельности"
   ]
  },
  {
   "cell_type": "code",
   "execution_count": 55,
   "metadata": {},
   "outputs": [
    {
     "name": "stdout",
     "output_type": "stream",
     "text": [
      "catboost roc-auc 0.9641781672117112\n",
      "GRU roc-auc \t 0.9905030433779515\n"
     ]
    }
   ],
   "source": [
    "print('catboost roc-auc', roc_auc_score(test_labels, gbm_test_proba))\n",
    "print('GRU roc-auc \\t', roc_auc_score(test_labels, rnn_test_proba))"
   ]
  },
  {
   "cell_type": "code",
   "execution_count": null,
   "metadata": {},
   "outputs": [],
   "source": []
  },
  {
   "cell_type": "code",
   "execution_count": 59,
   "metadata": {},
   "outputs": [
    {
     "data": {
      "text/plain": [
       "LogisticRegression(random_state=42)"
      ]
     },
     "execution_count": 59,
     "metadata": {},
     "output_type": "execute_result"
    }
   ],
   "source": [
    "clf = LogisticRegression(random_state=42)\n",
    "clf.fit(data_logreg_train, train_labels)"
   ]
  },
  {
   "cell_type": "code",
   "execution_count": 74,
   "metadata": {},
   "outputs": [
    {
     "name": "stdout",
     "output_type": "stream",
     "text": [
      "ansamble roc-auc  0.9891637972489725\n",
      "ansamble f1 \t 0.9348180858212537\n"
     ]
    }
   ],
   "source": [
    "logreg_proba = clf.predict_proba(data_logreg_test)[:,1]\n",
    "logreg_labels = [1 if item > 0.5 else 0 for item in logreg_proba]\n",
    "print('ensemble roc-auc ', roc_auc_score(test_labels, logreg_proba))\n",
    "print('ensemble f1 \\t', f1_score(test_labels, logreg_labels))"
   ]
  },
  {
   "cell_type": "code",
   "execution_count": null,
   "metadata": {},
   "outputs": [],
   "source": []
  },
  {
   "cell_type": "markdown",
   "metadata": {},
   "source": [
    "#### Ансамбль из двух моделей показал себя хуже на roc-auc, чем рекурентная нейронная сеть, но выигрывает на f1 метрике\n",
    "#### По правилам хакатона модель оценивается по auc-roc, поэтому для бота будет использоваться только GRU"
   ]
  },
  {
   "cell_type": "code",
   "execution_count": null,
   "metadata": {},
   "outputs": [],
   "source": []
  }
 ],
 "metadata": {
  "kernelspec": {
   "display_name": "Python 3",
   "language": "python",
   "name": "python3"
  },
  "language_info": {
   "codemirror_mode": {
    "name": "ipython",
    "version": 3
   },
   "file_extension": ".py",
   "mimetype": "text/x-python",
   "name": "python",
   "nbconvert_exporter": "python",
   "pygments_lexer": "ipython3",
   "version": "3.7.8"
  }
 },
 "nbformat": 4,
 "nbformat_minor": 4
}
