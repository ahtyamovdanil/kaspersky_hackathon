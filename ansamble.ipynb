{
 "cells": [
  {
   "cell_type": "code",
   "execution_count": 2,
   "metadata": {},
   "outputs": [
    {
     "name": "stdout",
     "output_type": "stream",
     "text": [
      "INFO: Pandarallel will run on 16 workers.\n",
      "INFO: Pandarallel will use Memory file system to transfer data between the main process and workers.\n"
     ]
    }
   ],
   "source": [
    "import warnings\n",
    "warnings.filterwarnings(\"ignore\")\n",
    "\n",
    "import torch\n",
    "from torch import nn\n",
    "from catboost import CatBoostClassifier\n",
    "from sklearn.linear_model import LogisticRegression\n",
    "import joblib\n",
    "import biGRU_model \n",
    "import gbm_model\n",
    "from deeppavlov.core.data.simple_vocab import SimpleVocabulary\n",
    "import pandas as pd\n",
    "import numpy as np\n",
    "from pandarallel import pandarallel\n",
    "\n",
    "pandarallel.initialize()"
   ]
  },
  {
   "cell_type": "code",
   "execution_count": 3,
   "metadata": {},
   "outputs": [
    {
     "name": "stderr",
     "output_type": "stream",
     "text": [
      "2020-09-26 23:35:42.659 WARNING in 'deeppavlov.core.models.serializable'['serializable'] at line 49: No load path is set for SimpleVocabulary in 'infer' mode. Using save path instead\n",
      "2020-09-26 23:35:42.660 INFO in 'deeppavlov.core.data.simple_vocab'['simple_vocab'] at line 115: [loading vocabulary from /rapids/notebooks/my_data/BMSTU_hack/models/vocab.dict]\n"
     ]
    },
    {
     "data": {
      "text/plain": [
       "<All keys matched successfully>"
      ]
     },
     "execution_count": 3,
     "metadata": {},
     "output_type": "execute_result"
    }
   ],
   "source": [
    "gbm = CatBoostClassifier()      \n",
    "gbm.load_model('models/catboost_1')\n",
    "vocab = SimpleVocabulary(save_path=\"./models/vocab.dict\")\n",
    "gru = torch.load('models/biGRU')\n",
    "device = torch.device('cpu') \n",
    "gru = biGRU_model.BiGRU(vocab.count, embedding_dim=10, hidden_size=50, device='cpu') \n",
    "gru.load_state_dict(torch.load('models/biGRU', map_location=device))\n",
    "\n",
    "#tfidf = tfidf = joblib.load('models/tfidf.pkl') \n",
    "#svdt = tfidf = joblib.load('models/svdt.pkl') \n"
   ]
  },
  {
   "cell_type": "code",
   "execution_count": 25,
   "metadata": {},
   "outputs": [
    {
     "name": "stdout",
     "output_type": "stream",
     "text": [
      "loading existing models...\n"
     ]
    }
   ],
   "source": [
    "data = pd.read_csv('data/level0.csv')\n",
    "labels = data['label']\n",
    "data.drop(['label'], axis=1, inplace=True)\n",
    "data_gbm = gbm_model.add_features(data.copy(), is_fitted=True)\n",
    "data_rnn = data.to_numpy()"
   ]
  },
  {
   "cell_type": "code",
   "execution_count": 26,
   "metadata": {},
   "outputs": [],
   "source": [
    "torch.cuda.empty_cache()\n",
    "gbm_proba = gbm.predict_proba(data_gbm.to_numpy())[:,1].flatten()\n",
    "rnn_proba = biGRU_model.predict_proba(gru, vocab, data_rnn, device='cpu').flatten()\n",
    "X = np.column_stack((gbm_proba, rnn_proba))"
   ]
  },
  {
   "cell_type": "code",
   "execution_count": null,
   "metadata": {},
   "outputs": [],
   "source": [
    "clf = LogisticRegression(random_state=0).fit(X, labels)"
   ]
  },
  {
   "cell_type": "code",
   "execution_count": null,
   "metadata": {},
   "outputs": [],
   "source": []
  },
  {
   "cell_type": "code",
   "execution_count": null,
   "metadata": {},
   "outputs": [],
   "source": []
  },
  {
   "cell_type": "code",
   "execution_count": null,
   "metadata": {},
   "outputs": [],
   "source": []
  },
  {
   "cell_type": "code",
   "execution_count": 6,
   "metadata": {},
   "outputs": [
    {
     "name": "stdout",
     "output_type": "stream",
     "text": [
      "0.10794858100071444 0.162942920578531\n"
     ]
    }
   ],
   "source": [
    "print(np.mean(abs(gbm_proba - rnn_proba)), np.std(abs(gbm_proba - rnn_proba)))"
   ]
  },
  {
   "cell_type": "code",
   "execution_count": 17,
   "metadata": {},
   "outputs": [],
   "source": [
    "import seaborn as sns"
   ]
  },
  {
   "cell_type": "code",
   "execution_count": 9,
   "metadata": {},
   "outputs": [
    {
     "data": {
      "text/plain": [
       "array([0.58014107])"
      ]
     },
     "execution_count": 9,
     "metadata": {},
     "output_type": "execute_result"
    }
   ],
   "source": [
    "biGRU_model.predict_proba(gru, vocab, np.array([['theopportunitycollection.com']]), device='cpu')"
   ]
  }
 ],
 "metadata": {
  "kernelspec": {
   "display_name": "Python 3",
   "language": "python",
   "name": "python3"
  },
  "language_info": {
   "codemirror_mode": {
    "name": "ipython",
    "version": 3
   },
   "file_extension": ".py",
   "mimetype": "text/x-python",
   "name": "python",
   "nbconvert_exporter": "python",
   "pygments_lexer": "ipython3",
   "version": "3.7.8"
  }
 },
 "nbformat": 4,
 "nbformat_minor": 4
}
