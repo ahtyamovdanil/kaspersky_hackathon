{
 "cells": [
  {
   "cell_type": "code",
   "execution_count": 4,
   "metadata": {},
   "outputs": [],
   "source": [
    "import numpy as np\n",
    "import pandas as pd\n",
    "import seaborn as sns\n",
    "from catboost import CatBoostClassifier, Pool\n",
    "import pandas_profiling\n",
    "\n",
    "from sklearn.model_selection import train_test_split, cross_val_score, StratifiedKFold\n",
    "from sklearn.metrics import confusion_matrix, roc_auc_score\n",
    "from sklearn.pipeline import make_pipeline\n",
    "from sklearn.feature_extraction.text import TfidfVectorizer\n",
    "from sklearn.linear_model import LogisticRegression\n",
    "from sklearn.preprocessing import StandardScaler\n",
    "from sklearn.decomposition import TruncatedSVD\n",
    "\n",
    "from urllib.parse import urlparse\n",
    "from nltk.tokenize import RegexpTokenizer \n",
    "from nltk.stem.snowball import SnowballStemmer"
   ]
  },
  {
   "cell_type": "code",
   "execution_count": 3,
   "metadata": {},
   "outputs": [],
   "source": [
    "pd.set_option('display.max_colwidth', None)"
   ]
  },
  {
   "cell_type": "code",
   "execution_count": 36,
   "metadata": {},
   "outputs": [],
   "source": [
    "def split_url(url):\n",
    "    tokenizer = RegexpTokenizer(r'[A-Za-z]+')\n",
    "    stemmer = SnowballStemmer(language=\"english\")\n",
    "    sent = tokenizer.tokenize(url)\n",
    "    sent = [stemmer.stem(word) for word in sent]\n",
    "    sent = ' '.join(sent)\n",
    "    return sent\n",
    "\n",
    "def add_features(df):\n",
    "    df['label'] = df['label'].apply(lambda label: 1 if label == 'Unsafe' else 0)\n",
    "    df['stemmed'] = df['url'].apply(split_url)\n",
    "    df['words_count'] = df['stemmed'].apply(lambda url: len(url.split()))\n",
    "    \n",
    "    vectorizer = TfidfVectorizer(ngram_range=(1, 1), min_df = 3, lowercase=True, max_features=150000, stop_words=['url', 'label', 'stemmed', 'words_count', 'len'])\n",
    "    url_vec = vectorizer.fit_transform(df['stemmed'])\n",
    "    temp_df = pd.DataFrame(url_vec.toarray(), columns=vectorizer.get_feature_names())\n",
    "    df['len'] = df['url'].apply(lambda url: len(url))\n",
    "    df = pd.concat([df, temp_df], axis=1)\n",
    "    return df\n",
    "    \n",
    "def split(df):\n",
    "    train_text, temp_text, \\\n",
    "    train_labels, temp_labels = train_test_split(df.drop(['url', 'stemmed'], axis=1),   \n",
    "                                                 df['label'],\n",
    "                                                 random_state = 42,\n",
    "                                                 test_size = 0.3,\n",
    "                                                 stratify=df['label'])\n",
    "    val_text, test_text, \\\n",
    "    val_labels, test_labels = train_test_split(temp_text,\n",
    "                                              temp_labels,\n",
    "                                              random_state = 42,\n",
    "                                              test_size = 0.5,\n",
    "                                              stratify=temp_labels)\n",
    "   \n",
    "    return train_text.drop(['label'], axis=1), \\\n",
    "           train_labels, \\\n",
    "           val_text.drop(['label'], axis=1), \\\n",
    "           val_labels, \\\n",
    "           test_text.drop(['label'], axis=1), \\\n",
    "           test_labels\n",
    "\n",
    "def preprocess(df):\n",
    "    df = add_features(df)\n",
    "    return split(df)\n",
    "\n",
    "def train_gbm(train_data, train_labels, val_data, val_labels, test_data, test_labels):\n",
    "    gbm = CatBoostClassifier(task_type=\"GPU\", logging_level='Silent', \n",
    "                             loss_function='Logloss',od_type='Iter')\n",
    "    eval_pool = Pool(val_data, val_labels)\n",
    "    gbm.fit(train_data, train_labels, eval_set=eval_pool, use_best_model=True)\n",
    "    gbm.save_model('catboost_1',\n",
    "                   format=\"cbm\",\n",
    "                   export_parameters=None,\n",
    "                   pool=None)\n",
    "    pred_labels = gbm.predict(test_data)\n",
    "    score = roc_auc_score(pred_labels, test_labels)\n",
    "    print(score)\n",
    "    return gbm\n",
    "\n",
    "def get_cross_val(model, train_data, train_labels):\n",
    "    skf = StratifiedKFold(n_splits=5, shuffle=True, random_state=42)\n",
    "    cv_results = cross_val_score(model, train_data, train_labels, cv=skf, scoring='roc_auc')\n",
    "    print(cv_results)"
   ]
  },
  {
   "cell_type": "code",
   "execution_count": 5,
   "metadata": {},
   "outputs": [],
   "source": [
    "df = pd.read_csv('urls.csv')\n",
    "train_data, train_labels, val_data, val_labels, test_data, test_labels = preprocess(df)"
   ]
  },
  {
   "cell_type": "code",
   "execution_count": null,
   "metadata": {},
   "outputs": [],
   "source": [
    "gbm = CatBoostClassifier(task_type=\"GPU\", logging_level='Silent', loss_function='Logloss',\n",
    "                        od_type='Iter')\n",
    "skf = StratifiedKFold(n_splits=5, shuffle=True, random_state=42)\n",
    "cv_results = cross_val_score(model, train_data, train_labels, cv=skf, scoring='roc_auc')\n",
    "print(cv_results)"
   ]
  },
  {
   "cell_type": "code",
   "execution_count": 37,
   "metadata": {},
   "outputs": [
    {
     "name": "stdout",
     "output_type": "stream",
     "text": [
      "0.9696997605254716\n"
     ]
    }
   ],
   "source": [
    "gbm = train_gbm(train_data, train_labels, val_data, val_labels, test_data, test_labels)"
   ]
  }
 ],
 "metadata": {
  "kernelspec": {
   "display_name": "Python 3",
   "language": "python",
   "name": "python3"
  },
  "language_info": {
   "codemirror_mode": {
    "name": "ipython",
    "version": 3
   },
   "file_extension": ".py",
   "mimetype": "text/x-python",
   "name": "python",
   "nbconvert_exporter": "python",
   "pygments_lexer": "ipython3",
   "version": "3.7.8"
  }
 },
 "nbformat": 4,
 "nbformat_minor": 4
}
